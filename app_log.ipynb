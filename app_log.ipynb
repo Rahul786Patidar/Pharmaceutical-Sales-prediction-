{
  "nbformat": 4,
  "nbformat_minor": 0,
  "metadata": {
    "colab": {
      "provenance": [],
      "mount_file_id": "1nE421Rs4lZXmgLgZp0aQm_Dr681jhM-2",
      "authorship_tag": "ABX9TyN1blxGLT11GVwHzxvelB4S",
      "include_colab_link": true
    },
    "kernelspec": {
      "name": "python3",
      "display_name": "Python 3"
    },
    "language_info": {
      "name": "python"
    }
  },
  "cells": [
    {
      "cell_type": "markdown",
      "metadata": {
        "id": "view-in-github",
        "colab_type": "text"
      },
      "source": [
        "<a href=\"https://colab.research.google.com/github/Rahul786Patidar/Pharmaceutical-Sales-prediction-/blob/main/app_log.ipynb\" target=\"_parent\"><img src=\"https://colab.research.google.com/assets/colab-badge.svg\" alt=\"Open In Colab\"/></a>"
      ]
    },
    {
      "cell_type": "code",
      "source": [
        "import pandas as pd\n",
        "import logging\n",
        "\n",
        "#configure the logging settings\n",
        "logging.basicConfig(filename='app.log',level=logging.DEBUG,filemode = 'w')\n",
        "\n",
        "#Create a logger instance\n",
        "logger = logging.getLogger('Rossman.log')\n",
        "logger.propagate = False\n",
        "\n",
        "#handlers\n",
        "console_handler = logging.StreamHandler()\n",
        "file_handler = logging.FileHandler('app.log')\n",
        "\n",
        "logger.addHandler(console_handler)\n",
        "logger.addHandler(file_handler)\n",
        "\n",
        "# Formatters\n",
        "formatter = logging.Formatter('%(asctime)s - %(levelname)s - %(message)s')\n",
        "console_handler.setFormatter(formatter)\n",
        "file_handler.setFormatter(formatter)\n",
        "\n",
        "logger.error(\"Error loading train_data: [Errno 22] Invalid argument: '/content/drive/MyDrive/DIGICHROME/train.csv'\")\n",
        "logger.error(\"Error loading test_data: [Errno 22] Invalid argument: '/content/drive/MyDrive/DIGICHROME/test.csv'\")\n",
        "logger.error(\"Error loading store_data: [Errno 22] Invalid argument: '/content/drive/MyDrive/DIGICHROME/store.csv'\")\n",
        "logger.error(\"Error loading sample_submission_data: [Errno 22] Invalid argument: '/content/drive/MyDrive/DIGICHROME/sample_submission.csv'\")\n",
        "\n",
        "logger.warning('load train_data sucessfully')\n",
        "logger.warning('load train_data sucessfully')\n",
        "logger.warning('load train_data sucessfully')\n",
        "logger.warning('load train_data sucessfully')\n",
        "\n",
        "logger.debug('This is a debug messages')\n",
        "logger.info('This is a info messages')\n",
        "logger.warning('This is a warning messages')\n",
        "logger.critical('This is a critical messages')\n",
        "\n",
        "logger.debug(\"Program started\")\n",
        "logger.warning(\"Starting my function...\")\n",
        "logger.info(\"Result: 5.0\")\n",
        "logger.debug(\"Finished my function\")\n",
        "logger.info(\"Program Finished\")\n",
        "\n",
        "\n"
      ],
      "metadata": {
        "colab": {
          "base_uri": "https://localhost:8080/"
        },
        "id": "T0dEggRBpeib",
        "outputId": "4fd14c18-1735-4fb2-9600-1bb51f93df39"
      },
      "execution_count": 89,
      "outputs": [
        {
          "output_type": "stream",
          "name": "stderr",
          "text": [
            "2023-09-04 13:43:28,227 - ERROR - Error loading train_data: [Errno 22] Invalid argument: '/content/drive/MyDrive/DIGICHROME/train.csv'\n",
            "2023-09-04 13:43:28,230 - ERROR - Error loading test_data: [Errno 22] Invalid argument: '/content/drive/MyDrive/DIGICHROME/test.csv'\n",
            "2023-09-04 13:43:28,235 - ERROR - Error loading store_data: [Errno 22] Invalid argument: '/content/drive/MyDrive/DIGICHROME/store.csv'\n",
            "2023-09-04 13:43:28,239 - ERROR - Error loading sample_submission_data: [Errno 22] Invalid argument: '/content/drive/MyDrive/DIGICHROME/sample_submission.csv'\n",
            "2023-09-04 13:43:28,241 - WARNING - load train_data sucessfully\n",
            "2023-09-04 13:43:28,246 - WARNING - load train_data sucessfully\n",
            "2023-09-04 13:43:28,248 - WARNING - load train_data sucessfully\n",
            "2023-09-04 13:43:28,250 - WARNING - load train_data sucessfully\n",
            "2023-09-04 13:43:28,252 - WARNING - This is a warning messages\n",
            "2023-09-04 13:43:28,254 - CRITICAL - This is a critical messages\n",
            "2023-09-04 13:43:28,256 - WARNING - Starting my function...\n"
          ]
        }
      ]
    },
    {
      "cell_type": "code",
      "source": [
        "import pandas as pd\n",
        "import logging\n",
        "\n",
        "logging.basicConfig(level=logging.DEBUG,format = '%(asctime)s - %(levelname)s - %(message)s')\n",
        "\n",
        "logger = logging.getLogger('my_logger')\n",
        "\n",
        "#Create a logger instance\n",
        "logger = logging.getLogger('RO.log')\n",
        "logger.propagate = False\n",
        "\n",
        "#handlers\n",
        "console_handler = logging.StreamHandler()\n",
        "file_handler = logging.FileHandler('app.log')\n",
        "\n",
        "logger.addHandler(console_handler)\n",
        "logger.addHandler(file_handler)\n",
        "\n",
        "# Formatters\n",
        "formatter = logging.Formatter('%(asctime)s - %(levelname)s - %(message)s')\n",
        "console_handler.setFormatter(formatter)\n",
        "file_handler.setFormatter(formatter)\n",
        "\n",
        "#read the csv files into dataframe\n",
        "def do_something():\n",
        "\n",
        "\n",
        " try:\n",
        "\n",
        "    train_data =logging.info('loaded train_data sucessfully.')\n",
        " except Exception as e:\n",
        "    logging.error('Error loading train_data: %s',str(e))\n",
        " else:\n",
        "     logging.info(f\"train_data: {train_data}\")\n",
        "\n",
        "do_something()\n",
        "\n",
        "\n",
        "\n",
        "\n"
      ],
      "metadata": {
        "id": "27awLAWX3pFP"
      },
      "execution_count": 87,
      "outputs": []
    },
    {
      "cell_type": "code",
      "source": [],
      "metadata": {
        "id": "s26OKexYY7y7"
      },
      "execution_count": null,
      "outputs": []
    },
    {
      "cell_type": "code",
      "source": [
        " try:\n",
        "\n",
        "\n",
        "   test_data =logging.info('loaded test_data sucessfully.')\n",
        "  except Exception as e:\n",
        "     logging.error('Error loading test_data: %s',str(e))\n",
        "  else:\n",
        "      logging.info(f\"test_data: {test_data}\")\n",
        "\n",
        "  try:\n",
        "     store_data =logging.info('loaded store_data sucessfully.')\n",
        "  except Exception as e:\n",
        "     logging.error('Error loading store_data: %s',str(e))\n",
        "  else:\n",
        "     logging.info(f\"store_data: {store_data}\")\n",
        "\n",
        "  try:\n",
        "\n",
        "    sample_submission_data =logging.info('loaded sample_submission_data sucessfully.')\n",
        "  except Exception as e:\n",
        "     logging.error('Error loading sample_submission_data: %s',str(e))\n",
        "  else:\n",
        "      logging.info(f\"sample_submission_data: {sample_submission_data}\")"
      ],
      "metadata": {
        "id": "U2zVcaEwMaFg"
      },
      "execution_count": 71,
      "outputs": []
    },
    {
      "cell_type": "code",
      "source": [],
      "metadata": {
        "id": "hntHiQm8J0Fr"
      },
      "execution_count": null,
      "outputs": []
    }
  ]
}