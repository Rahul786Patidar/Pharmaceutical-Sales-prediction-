{
  "nbformat": 4,
  "nbformat_minor": 0,
  "metadata": {
    "colab": {
      "provenance": [],
      "mount_file_id": "1nE421Rs4lZXmgLgZp0aQm_Dr681jhM-2",
      "authorship_tag": "ABX9TyOqK85IXSoXyAU1qiE3YA7S",
      "include_colab_link": true
    },
    "kernelspec": {
      "name": "python3",
      "display_name": "Python 3"
    },
    "language_info": {
      "name": "python"
    }
  },
  "cells": [
    {
      "cell_type": "markdown",
      "metadata": {
        "id": "view-in-github",
        "colab_type": "text"
      },
      "source": [
        "<a href=\"https://colab.research.google.com/github/Rahul786Patidar/Pharmaceutical-Sales-prediction-/blob/main/app_log.ipynb\" target=\"_parent\"><img src=\"https://colab.research.google.com/assets/colab-badge.svg\" alt=\"Open In Colab\"/></a>"
      ]
    },
    {
      "cell_type": "code",
      "source": [
        "import pandas as pd\n",
        "import logging"
      ],
      "metadata": {
        "id": "6qr-8RvPpVvV"
      },
      "execution_count": 1,
      "outputs": []
    },
    {
      "cell_type": "code",
      "source": [
        "#configure the logging settings\n",
        "logging.basicConfig(filename='data_processing.log',level=logging.INFO,format='%(asctime)s - %(levelname)s - %(message)s')\n",
        "\n",
        "#step1: read the csv files into dataframe\n",
        "\n",
        "try:\n",
        "  train_data = pd.read_csv('/content/drive/MyDrive/DIGICHROME/train.csv',low_memory=False)\n",
        "  logging.info('loaded train_data sucessfully.')\n",
        "except Exception as e:\n",
        "  logging.error('Error loading train_data: %s',str(e))\n",
        "\n",
        "try:\n",
        "  test_data = pd.read_csv('/content/drive/MyDrive/DIGICHROME/test.csv',low_memory=False)\n",
        "  logging.info('loaded test_data sucessfully.')\n",
        "except Exception as e:\n",
        "  logging.error('Error loading test_data: %s',str(e))\n",
        "\n",
        "try:\n",
        "  store_data = pd.read_csv('/content/drive/MyDrive/DIGICHROME/store.csv',low_memory=False)\n",
        "  logging.info('loaded store_data sucessfully.')\n",
        "except Exception as e:\n",
        "  logging.error('Error loading store_data: %s',str(e))\n",
        "\n",
        "try:\n",
        "  sample_submission_data = pd.read_csv('/content/drive/MyDrive/DIGICHROME/sample_submission.csv',low_memory=False)\n",
        "  logging.info('loaded sample_submission_data sucessfully.')\n",
        "except Exception as e:\n",
        "  logging.error('Error loading sample_submission_data: %s',str(e))\n",
        "\n",
        "\n"
      ],
      "metadata": {
        "id": "T0dEggRBpeib"
      },
      "execution_count": 5,
      "outputs": []
    },
    {
      "cell_type": "code",
      "source": [
        "import pandas as pd\n",
        "import logging\n",
        "\n",
        "#configure the logger\n",
        "logging.basicConfig(filename = 'app.log',level=logging.INFO,filemode='w',format='%(asctime)s - %(levelname)s - %(message)s')\n",
        "\n",
        "#Create a logger instance\n",
        "logger = logging.getLogger(__name__)\n",
        "\n",
        "# Simulate Log messages\n",
        "logger.error(\"Error loading train_data: [Errno 22] Invalid argument: '/content/drive/MyDrive/DIGICHROME/train.csv'\")\n",
        "logger.error(\"Error loading test_data: [Errno 22] Invalid argument: '/content/drive/MyDrive/DIGICHROME/test.csv'\")\n",
        "logger.error(\"Error loading store_data: [Errno 22] Invalid argument: '/content/drive/MyDrive/DIGICHROME/store.csv'\")\n",
        "logger.error(\"Error loading sample_submission_data: [Errno 22] Invalid argument: '/content/drive/MyDrive/DIGICHROME/sample_submission.csv'\")\n",
        "\n",
        "logger.info('Loaded train_data sucessfully')\n",
        "logger.info('Loaded test_data sucessfully')\n",
        "logger.info('Loaded store_data sucessfully')\n",
        "logger.info('Loaded sample_submission_data sucessfully')\n",
        "\n",
        "logger.debug('This is a debug messages')\n",
        "logger.info('This is a info messages')\n",
        "logger.warning('This is a warning messages')\n",
        "logger.critical('This is a critical messages')\n",
        "\n",
        "logger.info(\"Program started\")\n",
        "logger.info(\"Starting my function...\")\n",
        "logger.info(\"Result: 5.0\")\n",
        "logger.info(\"Finished my function\")\n",
        "logger.info(\"Program Finished\")"
      ],
      "metadata": {
        "colab": {
          "base_uri": "https://localhost:8080/"
        },
        "id": "YqdZxFF8vVpK",
        "outputId": "4227a02f-8a6c-4c25-9c3e-eb1b215192f9"
      },
      "execution_count": 6,
      "outputs": [
        {
          "output_type": "stream",
          "name": "stderr",
          "text": [
            "ERROR:__main__:Error loading train_data: [Errno 22] Invalid argument: '/content/drive/MyDrive/DIGICHROME/train.csv'\n",
            "ERROR:__main__:Error loading test_data: [Errno 22] Invalid argument: '/content/drive/MyDrive/DIGICHROME/test.csv'\n",
            "ERROR:__main__:Error loading store_data: [Errno 22] Invalid argument: '/content/drive/MyDrive/DIGICHROME/store.csv'\n",
            "ERROR:__main__:Error loading sample_submission_data: [Errno 22] Invalid argument: '/content/drive/MyDrive/DIGICHROME/sample_submission.csv'\n",
            "WARNING:__main__:This is a warning messages\n",
            "CRITICAL:__main__:This is a critical messages\n"
          ]
        }
      ]
    },
    {
      "cell_type": "code",
      "source": [],
      "metadata": {
        "id": "27awLAWX3pFP"
      },
      "execution_count": 3,
      "outputs": []
    }
  ]
}